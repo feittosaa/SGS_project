{
 "cells": [
  {
   "cell_type": "markdown",
   "id": "7d841bda",
   "metadata": {},
   "source": [
    "Cliente - Endpoints e Exemplos"
   ]
  },
  {
   "cell_type": "code",
   "execution_count": null,
   "id": "25669293",
   "metadata": {},
   "outputs": [],
   "source": [
    "# Endpoint base\n",
    "BASE_URL = \"http://localhost:8000/clientes\"\n",
    "\n",
    "# Exemplo de cliente válido\n",
    "cliente_exemplo = {\n",
    "    \"nome\": \"Maria da Silva\",\n",
    "    \"telefone\": \"21999999999\",\n",
    "    \"cpf\": \"12345678901\",  # Deve ter 11 dígitos numéricos\n",
    "    \"data_aniversario\": \"1990-10-20\",\n",
    "    \"id_grupo\": 1,\n",
    "    \"id\": 1\n",
    "}"
   ]
  },
  {
   "cell_type": "markdown",
   "id": "8aa5fa05",
   "metadata": {},
   "source": [
    "POST - Criar cliente"
   ]
  },
  {
   "cell_type": "code",
   "execution_count": null,
   "id": "abb44571",
   "metadata": {},
   "outputs": [],
   "source": [
    "response = requests.post(BASE_URL + \"/\", json=cliente_exemplo)\n",
    "print(\"Status:\", response.status_code)\n",
    "print(\"Resposta:\", response.json())"
   ]
  },
  {
   "cell_type": "markdown",
   "id": "518ad7f4",
   "metadata": {},
   "source": [
    "GET - Listar todos os clientes"
   ]
  },
  {
   "cell_type": "code",
   "execution_count": null,
   "id": "5898aa83",
   "metadata": {},
   "outputs": [],
   "source": [
    "response = requests.get(BASE_URL + \"/\")\n",
    "print(\"Status:\", response.status_code)\n",
    "print(\"Clientes:\", response.json())"
   ]
  },
  {
   "cell_type": "markdown",
   "id": "aff42602",
   "metadata": {},
   "source": [
    "GET - Buscar cliente por ID"
   ]
  },
  {
   "cell_type": "code",
   "execution_count": null,
   "id": "bb41c62b",
   "metadata": {},
   "outputs": [],
   "source": [
    "cliente_id = 1\n",
    "response = requests.get(f\"{BASE_URL}/{cliente_id}\")\n",
    "print(\"Status:\", response.status_code)\n",
    "print(\"Cliente:\", response.json())"
   ]
  },
  {
   "cell_type": "markdown",
   "id": "6998fd76",
   "metadata": {},
   "source": [
    "PUT - Atualizar cliente"
   ]
  },
  {
   "cell_type": "code",
   "execution_count": null,
   "id": "7468ddb9",
   "metadata": {},
   "outputs": [],
   "source": [
    "cliente_atualizado = {\n",
    "    \"nome\": \"Maria Silva Souza\",\n",
    "    \"telefone\": \"21988888888\",\n",
    "    \"cpf\": \"12345678901\",\n",
    "    \"data_aniversario\": \"1991-01-01\",\n",
    "    \"id_grupo\": 1\n",
    "}\n",
    "\n",
    "response = requests.put(f\"{BASE_URL}/{cliente_id}\", json=cliente_atualizado)\n",
    "print(\"Status:\", response.status_code)\n",
    "print(\"Cliente atualizado:\", response.json())"
   ]
  },
  {
   "cell_type": "markdown",
   "id": "f63c3c96",
   "metadata": {},
   "source": [
    "DELETE - Remover cliente"
   ]
  },
  {
   "cell_type": "code",
   "execution_count": null,
   "id": "2306b665",
   "metadata": {},
   "outputs": [],
   "source": [
    "response = requests.delete(f\"{BASE_URL}/{cliente_id}\")\n",
    "print(\"Status:\", response.status_code)\n",
    "print(\"Resposta:\", response.text)"
   ]
  },
  {
   "cell_type": "markdown",
   "id": "d5167bc1",
   "metadata": {},
   "source": [
    "GET - Histórico de produtos e serviços"
   ]
  },
  {
   "cell_type": "code",
   "execution_count": null,
   "id": "91dc7e2a",
   "metadata": {},
   "outputs": [],
   "source": [
    "response = requests.get(f\"{BASE_URL}/{cliente_id}/historico\")\n",
    "print(\"Status:\", response.status_code)\n",
    "print(\"Histórico:\", response.json())"
   ]
  },
  {
   "cell_type": "markdown",
   "id": "fe793494",
   "metadata": {},
   "source": [
    "Funcionário - Endpoints e Exemplos"
   ]
  },
  {
   "cell_type": "code",
   "execution_count": null,
   "id": "dbbcc896",
   "metadata": {},
   "outputs": [],
   "source": [
    "from datetime import date\n",
    "import requests\n",
    "\n",
    "# URL base da API\n",
    "BASE_URL = \"http://localhost:8000/funcionarios\""
   ]
  },
  {
   "cell_type": "markdown",
   "id": "9a17614c",
   "metadata": {},
   "source": [
    "POST - Criar Funcionário"
   ]
  },
  {
   "cell_type": "code",
   "execution_count": null,
   "id": "9af2b965",
   "metadata": {},
   "outputs": [],
   "source": [
    "novo_funcionario = {\n",
    "    \"nome\": \"João da Silva\",\n",
    "    \"id_grupo\": 1,\n",
    "    \"salario\": 4000.0\n",
    "}\n",
    "res = requests.post(f\"{BASE_URL}/\", json=novo_funcionario)\n",
    "print(\"1. Criar Funcionário:\", res.status_code, res.json())"
   ]
  },
  {
   "cell_type": "markdown",
   "id": "93f51ad8",
   "metadata": {},
   "source": [
    "GET - Listar todos os funcionários"
   ]
  },
  {
   "cell_type": "code",
   "execution_count": null,
   "id": "ef36de9b",
   "metadata": {},
   "outputs": [],
   "source": [
    "res = requests.get(f\"{BASE_URL}/\")\n",
    "print(\"2. Buscar todos os Funcionários:\", res.status_code, res.json())"
   ]
  },
  {
   "cell_type": "markdown",
   "id": "7ec2ae71",
   "metadata": {},
   "source": [
    "GET - Buscar funcionário por ID"
   ]
  },
  {
   "cell_type": "code",
   "execution_count": null,
   "id": "fd384290",
   "metadata": {},
   "outputs": [],
   "source": [
    "funcionario_id = 1\n",
    "res = requests.get(f\"{BASE_URL}/{funcionario_id}\")\n",
    "print(\"3. Buscar Funcionário por ID:\", res.status_code, res.json())"
   ]
  },
  {
   "cell_type": "markdown",
   "id": "efbac420",
   "metadata": {},
   "source": [
    "PUT - Atualizar funcionario"
   ]
  },
  {
   "cell_type": "code",
   "execution_count": null,
   "id": "8dce768f",
   "metadata": {},
   "outputs": [],
   "source": [
    "atualizado_funcionario = {\n",
    "    \"nome\": \"João da Costa\",\n",
    "    \"id_grupo\": 4,\n",
    "    \"salario\": 2000.0\n",
    "}\n",
    "res = requests.put(f\"{BASE_URL}/{funcionario_id}\", json=atualizado_funcionario)\n",
    "print(\"4. Atualizar Funcionário:\", res.status_code, res.json())"
   ]
  },
  {
   "cell_type": "markdown",
   "id": "93c0d603",
   "metadata": {},
   "source": [
    "DELETE - Remover funcionario"
   ]
  },
  {
   "cell_type": "code",
   "execution_count": null,
   "id": "4223d40e",
   "metadata": {},
   "outputs": [],
   "source": [
    "res = requests.delete(f\"{BASE_URL}/{funcionario_id}\")\n",
    "print(\"5. Deletar Funcionário:\", res.status_code, \"Sucesso\" if res.status_code == 204 else res.json())"
   ]
  },
  {
   "cell_type": "markdown",
   "id": "38e40c81",
   "metadata": {},
   "source": [
    "Produtos - Endpoints e Exemplos"
   ]
  },
  {
   "cell_type": "code",
   "execution_count": null,
   "id": "005e49d9",
   "metadata": {},
   "outputs": [],
   "source": [
    "import requests\n",
    "\n",
    "# URL base da API\n",
    "BASE_URL = \"http://localhost:8000/produtos\""
   ]
  },
  {
   "cell_type": "markdown",
   "id": "4470e76f",
   "metadata": {},
   "source": [
    "POST - Criar produto"
   ]
  },
  {
   "cell_type": "code",
   "execution_count": null,
   "id": "3222e395",
   "metadata": {},
   "outputs": [],
   "source": [
    "novo_produto = {\n",
    "    \"nome\": \"Shampoo de Melaleuca\",\n",
    "    \"categoria\": \"Cabelo\",\n",
    "    \"valor\": 29.90,\n",
    "    \"quantidade\": 50,\n",
    "    \"uso_interno\": false,\n",
    "    \"id_grupo\": 1\n",
    "}\n",
    "res = requests.post(f\"{BASE_URL}/\", json=novo_produto)\n",
    "print(\"1. Criar Produto:\", res.status_code, res.json())"
   ]
  },
  {
   "cell_type": "markdown",
   "id": "6afce03d",
   "metadata": {},
   "source": [
    "GET - Listar todos os produtos"
   ]
  },
  {
   "cell_type": "code",
   "execution_count": null,
   "id": "47763c5a",
   "metadata": {},
   "outputs": [],
   "source": [
    "res = requests.get(f\"{BASE_URL}/\")\n",
    "print(\"2. Buscar todos os Produtos:\", res.status_code, res.json())"
   ]
  },
  {
   "cell_type": "markdown",
   "id": "9d4ef04e",
   "metadata": {},
   "source": [
    "GET - Buscar produto por ID"
   ]
  },
  {
   "cell_type": "code",
   "execution_count": null,
   "id": "00280c26",
   "metadata": {},
   "outputs": [],
   "source": [
    "produto_id = 1\n",
    "res = requests.get(f\"{BASE_URL}/{produto_id}\")\n",
    "print(\"3. Buscar Produto por ID:\", res.status_code, res.json())"
   ]
  },
  {
   "cell_type": "markdown",
   "id": "b3c74f4a",
   "metadata": {},
   "source": [
    "PUT - Atualizar produto"
   ]
  },
  {
   "cell_type": "code",
   "execution_count": null,
   "id": "ceb34752",
   "metadata": {},
   "outputs": [],
   "source": [
    "produto_atualizado = {\n",
    "    \"nome\": \"Shampoo de Alecrim\",\n",
    "    \"categoria\": \"Cabelo\",\n",
    "    \"valor\": 39.90,\n",
    "    \"quantidade\": 10,\n",
    "    \"uso_interno\": false,\n",
    "    \"id_grupo\": 1\n",
    "}\n",
    "res = requests.put(f\"{BASE_URL}/{produto_id}\", json=produto_atualizado)\n",
    "print(\"4. Atualizar Produto:\", res.status_code, res.json())"
   ]
  },
  {
   "cell_type": "markdown",
   "id": "85f7e6a9",
   "metadata": {},
   "source": [
    "DELETE - Remover produto"
   ]
  },
  {
   "cell_type": "code",
   "execution_count": null,
   "id": "390d3a5b",
   "metadata": {},
   "outputs": [],
   "source": [
    "res = requests.delete(f\"{BASE_URL}/{produto_id}\")\n",
    "print(\"5. Deletar Produto:\", res.status_code, \"Sucesso\" if res.status_code == 204 else res.json())"
   ]
  },
  {
   "cell_type": "markdown",
   "id": "4ca3c0d8",
   "metadata": {},
   "source": [
    "Serviço - Endpoints e Exemplos"
   ]
  },
  {
   "cell_type": "code",
   "execution_count": null,
   "id": "deb0f3cf",
   "metadata": {},
   "outputs": [],
   "source": [
    "import requests\n",
    "\n",
    "# URL base da API\n",
    "BASE_URL = \"http://localhost:8000/servicos\""
   ]
  },
  {
   "cell_type": "markdown",
   "id": "dd3cfae7",
   "metadata": {},
   "source": [
    "POST - Criar serviço"
   ]
  },
  {
   "cell_type": "code",
   "execution_count": null,
   "id": "4d4bcf83",
   "metadata": {},
   "outputs": [],
   "source": [
    "novo_servico = {\n",
    "    \"nome\": \"Corte de Cabelo Masculino\",\n",
    "    \"categoria\": \"Cabelo\",\n",
    "    \"valor\": 25.00,\n",
    "    \"id_grupo\": 1\n",
    "}\n",
    "res = requests.post(f\"{BASE_URL}/\", json=novo_servico)\n",
    "print(\"1. Criar Serviço:\", res.status_code, res.json())"
   ]
  },
  {
   "cell_type": "markdown",
   "id": "e8739a16",
   "metadata": {},
   "source": [
    "GET - Listar todos os serviços"
   ]
  },
  {
   "cell_type": "code",
   "execution_count": null,
   "id": "b3aeb8b1",
   "metadata": {},
   "outputs": [],
   "source": [
    "res = requests.get(f\"{BASE_URL}/\")\n",
    "print(\"2. Buscar todos os Serviços:\", res.status_code, res.json())"
   ]
  },
  {
   "cell_type": "markdown",
   "id": "496eb521",
   "metadata": {},
   "source": [
    "GET - Buscar serviço por ID"
   ]
  },
  {
   "cell_type": "code",
   "execution_count": null,
   "id": "e7bd2135",
   "metadata": {},
   "outputs": [],
   "source": [
    "servico_id = 1\n",
    "res = requests.get(f\"{BASE_URL}/{servico_id}\")\n",
    "print(\"3. Buscar Serviço por ID:\", res.status_code, res.json())"
   ]
  },
  {
   "cell_type": "markdown",
   "id": "b8afce00",
   "metadata": {},
   "source": [
    "PUT - Atualizar serviço"
   ]
  },
  {
   "cell_type": "code",
   "execution_count": null,
   "id": "ce5d5a07",
   "metadata": {},
   "outputs": [],
   "source": [
    "servico_atualizado = {\n",
    "    \"nome\": \"Corte de Cabelo Feminino\",\n",
    "    \"categoria\": \"Cabelo\",\n",
    "    \"valor\": 45.00,\n",
    "    \"id_grupo\": 1\n",
    "}\n",
    "res = requests.put(f\"{BASE_URL}/{servico_id}\", json=servico_atualizado)\n",
    "print(\"4. Atualizar Serviço:\", res.status_code, res.json())"
   ]
  },
  {
   "cell_type": "markdown",
   "id": "6fa709f5",
   "metadata": {},
   "source": [
    "DELETE - Remover serviço"
   ]
  },
  {
   "cell_type": "code",
   "execution_count": null,
   "id": "20fec1a9",
   "metadata": {},
   "outputs": [],
   "source": [
    "res = requests.delete(f\"{BASE_URL}/{servico_id}\")\n",
    "print(\"5. Deletar Serviço:\", res.status_code, \"Sucesso\" if res.status_code == 204 else res.json())"
   ]
  }
 ],
 "metadata": {
  "kernelspec": {
   "display_name": "venv",
   "language": "python",
   "name": "python3"
  },
  "language_info": {
   "name": "python",
   "version": "3.13.0"
  }
 },
 "nbformat": 4,
 "nbformat_minor": 5
}
