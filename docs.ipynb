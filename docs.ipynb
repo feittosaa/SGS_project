{
 "cells": [
  {
   "cell_type": "markdown",
   "id": "7d841bda",
   "metadata": {},
   "source": [
    "Cliente - Endpoints e Exemplos"
   ]
  },
  {
   "cell_type": "code",
   "execution_count": null,
   "id": "25669293",
   "metadata": {},
   "outputs": [],
   "source": [
    "# Endpoint base\n",
    "BASE_URL = \"http://localhost:8000/clientes\"\n",
    "\n",
    "# Exemplo de cliente válido\n",
    "cliente_exemplo = {\n",
    "    \"nome\": \"Maria da Silva\",\n",
    "    \"telefone\": \"21999999999\",\n",
    "    \"cpf\": \"12345678901\",  # Deve ter 11 dígitos numéricos\n",
    "    \"data_aniversario\": \"1990-10-20\",\n",
    "    \"id_grupo\": 1\n",
    "}"
   ]
  },
  {
   "cell_type": "markdown",
   "id": "8aa5fa05",
   "metadata": {},
   "source": [
    "POST /clientes/ — Criar cliente"
   ]
  },
  {
   "cell_type": "code",
   "execution_count": null,
   "id": "abb44571",
   "metadata": {},
   "outputs": [],
   "source": [
    "response = requests.post(BASE_URL + \"/\", json=cliente_exemplo)\n",
    "print(\"Status:\", response.status_code)\n",
    "print(\"Resposta:\", response.json())"
   ]
  },
  {
   "cell_type": "markdown",
   "id": "518ad7f4",
   "metadata": {},
   "source": [
    "GET /clientes/ — Listar todos os clientes"
   ]
  },
  {
   "cell_type": "code",
   "execution_count": null,
   "id": "5898aa83",
   "metadata": {},
   "outputs": [],
   "source": [
    "response = requests.get(BASE_URL + \"/\")\n",
    "print(\"Status:\", response.status_code)\n",
    "print(\"Clientes:\", response.json())"
   ]
  },
  {
   "cell_type": "markdown",
   "id": "aff42602",
   "metadata": {},
   "source": [
    "GET /clientes/{id} — Buscar cliente por ID"
   ]
  },
  {
   "cell_type": "code",
   "execution_count": null,
   "id": "bb41c62b",
   "metadata": {},
   "outputs": [],
   "source": [
    "cliente_id = 1\n",
    "response = requests.get(f\"{BASE_URL}/{cliente_id}\")\n",
    "print(\"Status:\", response.status_code)\n",
    "print(\"Cliente:\", response.json())"
   ]
  },
  {
   "cell_type": "markdown",
   "id": "6998fd76",
   "metadata": {},
   "source": [
    "PUT /clientes/{id} — Atualizar cliente"
   ]
  },
  {
   "cell_type": "code",
   "execution_count": null,
   "id": "7468ddb9",
   "metadata": {},
   "outputs": [],
   "source": [
    "cliente_atualizado = {\n",
    "    \"nome\": \"Maria Silva Souza\",\n",
    "    \"telefone\": \"21988888888\",\n",
    "    \"cpf\": \"12345678901\",\n",
    "    \"data_aniversario\": \"1991-01-01\",\n",
    "    \"id_grupo\": 1\n",
    "}\n",
    "\n",
    "response = requests.put(f\"{BASE_URL}/{cliente_id}\", json=cliente_atualizado)\n",
    "print(\"Status:\", response.status_code)\n",
    "print(\"Cliente atualizado:\", response.json())"
   ]
  },
  {
   "cell_type": "markdown",
   "id": "f63c3c96",
   "metadata": {},
   "source": [
    "DELETE /clientes/{id} — Remover cliente"
   ]
  },
  {
   "cell_type": "code",
   "execution_count": null,
   "id": "2306b665",
   "metadata": {},
   "outputs": [],
   "source": [
    "response = requests.delete(f\"{BASE_URL}/{cliente_id}\")\n",
    "print(\"Status:\", response.status_code)\n",
    "print(\"Resposta:\", response.text)"
   ]
  },
  {
   "cell_type": "markdown",
   "id": "d5167bc1",
   "metadata": {},
   "source": [
    "GET /clientes/{id}/historico — Histórico de produtos e serviços adquiridos"
   ]
  },
  {
   "cell_type": "code",
   "execution_count": null,
   "id": "91dc7e2a",
   "metadata": {},
   "outputs": [],
   "source": [
    "response = requests.get(f\"{BASE_URL}/{cliente_id}/historico\")\n",
    "print(\"Status:\", response.status_code)\n",
    "print(\"Histórico:\", response.json())"
   ]
  }
 ],
 "metadata": {
  "kernelspec": {
   "display_name": "venv",
   "language": "python",
   "name": "python3"
  },
  "language_info": {
   "name": "python",
   "version": "3.13.0"
  }
 },
 "nbformat": 4,
 "nbformat_minor": 5
}
