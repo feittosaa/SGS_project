{
 "cells": [
  {
   "cell_type": "markdown",
   "id": "7d841bda",
   "metadata": {},
   "source": [
    "Cliente - Endpoints e Exemplos"
   ]
  },
  {
   "cell_type": "code",
   "execution_count": null,
   "id": "25669293",
   "metadata": {},
   "outputs": [],
   "source": [
    "# Endpoint base\n",
    "BASE_URL = \"http://localhost:8000/clientes\"\n",
    "\n",
    "# Exemplo de cliente válido\n",
    "cliente_exemplo = {\n",
    "    \"nome\": \"Maria da Silva\",\n",
    "    \"telefone\": \"21999999999\",\n",
    "    \"cpf\": \"12345678901\",  # Deve ter 11 dígitos numéricos\n",
    "    \"data_aniversario\": \"1990-10-20\",\n",
    "    \"id_grupo\": 1,\n",
    "    \"id\": 1\n",
    "}"
   ]
  },
  {
   "cell_type": "markdown",
   "id": "8aa5fa05",
   "metadata": {},
   "source": [
    "POST - Criar cliente"
   ]
  },
  {
   "cell_type": "code",
   "execution_count": null,
   "id": "abb44571",
   "metadata": {},
   "outputs": [],
   "source": [
    "response = requests.post(BASE_URL + \"/\", json=cliente_exemplo)\n",
    "print(\"Status:\", response.status_code)\n",
    "print(\"Resposta:\", response.json())"
   ]
  },
  {
   "cell_type": "markdown",
   "id": "518ad7f4",
   "metadata": {},
   "source": [
    "GET - Listar todos os clientes"
   ]
  },
  {
   "cell_type": "code",
   "execution_count": null,
   "id": "5898aa83",
   "metadata": {},
   "outputs": [],
   "source": [
    "response = requests.get(BASE_URL + \"/\")\n",
    "print(\"Status:\", response.status_code)\n",
    "print(\"Clientes:\", response.json())"
   ]
  },
  {
   "cell_type": "markdown",
   "id": "aff42602",
   "metadata": {},
   "source": [
    "GET - Buscar cliente por ID"
   ]
  },
  {
   "cell_type": "code",
   "execution_count": null,
   "id": "bb41c62b",
   "metadata": {},
   "outputs": [],
   "source": [
    "cliente_id = 1\n",
    "response = requests.get(f\"{BASE_URL}/{cliente_id}\")\n",
    "print(\"Status:\", response.status_code)\n",
    "print(\"Cliente:\", response.json())"
   ]
  },
  {
   "cell_type": "markdown",
   "id": "6998fd76",
   "metadata": {},
   "source": [
    "PUT - Atualizar cliente"
   ]
  },
  {
   "cell_type": "code",
   "execution_count": null,
   "id": "7468ddb9",
   "metadata": {},
   "outputs": [],
   "source": [
    "cliente_atualizado = {\n",
    "    \"nome\": \"Maria Silva Souza\",\n",
    "    \"telefone\": \"21988888888\",\n",
    "    \"cpf\": \"12345678901\",\n",
    "    \"data_aniversario\": \"1991-01-01\",\n",
    "    \"id_grupo\": 1\n",
    "}\n",
    "\n",
    "response = requests.put(f\"{BASE_URL}/{cliente_id}\", json=cliente_atualizado)\n",
    "print(\"Status:\", response.status_code)\n",
    "print(\"Cliente atualizado:\", response.json())"
   ]
  },
  {
   "cell_type": "markdown",
   "id": "f63c3c96",
   "metadata": {},
   "source": [
    "DELETE - Remover cliente"
   ]
  },
  {
   "cell_type": "code",
   "execution_count": null,
   "id": "2306b665",
   "metadata": {},
   "outputs": [],
   "source": [
    "response = requests.delete(f\"{BASE_URL}/{cliente_id}\")\n",
    "print(\"Status:\", response.status_code)\n",
    "print(\"Resposta:\", response.text)"
   ]
  },
  {
   "cell_type": "markdown",
   "id": "d5167bc1",
   "metadata": {},
   "source": [
    "GET - Histórico de produtos e serviços"
   ]
  },
  {
   "cell_type": "code",
   "execution_count": null,
   "id": "91dc7e2a",
   "metadata": {},
   "outputs": [],
   "source": [
    "response = requests.get(f\"{BASE_URL}/{cliente_id}/historico\")\n",
    "print(\"Status:\", response.status_code)\n",
    "print(\"Histórico:\", response.json())"
   ]
  },
  {
   "cell_type": "markdown",
   "id": "fe793494",
   "metadata": {},
   "source": [
    "Funcionário - Endpoints e Exemplos"
   ]
  },
  {
   "cell_type": "code",
   "execution_count": null,
   "id": "dbbcc896",
   "metadata": {},
   "outputs": [],
   "source": [
    "from datetime import date\n",
    "import requests\n",
    "\n",
    "# URL base da API\n",
    "BASE_URL = \"http://localhost:8000/funcionarios\""
   ]
  },
  {
   "cell_type": "markdown",
   "id": "9a17614c",
   "metadata": {},
   "source": [
    "POST - Criar Funcionário"
   ]
  },
  {
   "cell_type": "code",
   "execution_count": null,
   "id": "9af2b965",
   "metadata": {},
   "outputs": [],
   "source": [
    "novo_funcionario = {\n",
    "    \"nome\": \"João da Silva\",\n",
    "    \"id_grupo\": 1,\n",
    "    \"salario\": 4000.0\n",
    "}\n",
    "res = requests.post(f\"{BASE_URL}/\", json=novo_funcionario)\n",
    "print(\"1. Criar Funcionário:\", res.status_code, res.json())"
   ]
  },
  {
   "cell_type": "markdown",
   "id": "93f51ad8",
   "metadata": {},
   "source": [
    "GET - Listar todos os funcionários"
   ]
  },
  {
   "cell_type": "code",
   "execution_count": null,
   "id": "ef36de9b",
   "metadata": {},
   "outputs": [],
   "source": [
    "res = requests.get(f\"{BASE_URL}/\")\n",
    "print(\"2. Buscar todos os Funcionários:\", res.status_code, res.json())"
   ]
  },
  {
   "cell_type": "markdown",
   "id": "7ec2ae71",
   "metadata": {},
   "source": [
    "GET - Buscar funcionário por ID"
   ]
  },
  {
   "cell_type": "code",
   "execution_count": null,
   "id": "fd384290",
   "metadata": {},
   "outputs": [],
   "source": [
    "funcionario_id = 1\n",
    "res = requests.get(f\"{BASE_URL}/{funcionario_id}\")\n",
    "print(\"3. Buscar Funcionário por ID:\", res.status_code, res.json())"
   ]
  },
  {
   "cell_type": "markdown",
   "id": "efbac420",
   "metadata": {},
   "source": [
    "PUT - Atualizar funcionario"
   ]
  },
  {
   "cell_type": "code",
   "execution_count": null,
   "id": "8dce768f",
   "metadata": {},
   "outputs": [],
   "source": [
    "atualizado_funcionario = {\n",
    "    \"nome\": \"João da Costa\",\n",
    "    \"id_grupo\": 4,\n",
    "    \"salario\": 2000.0\n",
    "}\n",
    "res = requests.put(f\"{BASE_URL}/{funcionario_id}\", json=atualizado_funcionario)\n",
    "print(\"4. Atualizar Funcionário:\", res.status_code, res.json())"
   ]
  },
  {
   "cell_type": "markdown",
   "id": "93c0d603",
   "metadata": {},
   "source": [
    "DELETE - Remover funcionario"
   ]
  },
  {
   "cell_type": "code",
   "execution_count": null,
   "id": "4223d40e",
   "metadata": {},
   "outputs": [],
   "source": [
    "res = requests.delete(f\"{BASE_URL}/{funcionario_id}\")\n",
    "print(\"5. Deletar Funcionário:\", res.status_code, \"Sucesso\" if res.status_code == 204 else res.json())"
   ]
  }
 ],
 "metadata": {
  "kernelspec": {
   "display_name": "venv",
   "language": "python",
   "name": "python3"
  },
  "language_info": {
   "name": "python",
   "version": "3.13.0"
  }
 },
 "nbformat": 4,
 "nbformat_minor": 5
}
