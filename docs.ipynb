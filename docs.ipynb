{
 "cells": [
  {
   "cell_type": "markdown",
   "id": "7d841bda",
   "metadata": {},
   "source": [
    "Cliente - Endpoints e Exemplos"
   ]
  },
  {
   "cell_type": "code",
   "execution_count": null,
   "id": "25669293",
   "metadata": {},
   "outputs": [],
   "source": [
    "# Endpoint base\n",
    "BASE_URL = \"http://localhost:8000/clientes\"\n",
    "\n",
    "# Exemplo de cliente válido\n",
    "cliente_exemplo = {\n",
    "    \"nome\": \"Maria da Silva\",\n",
    "    \"telefone\": \"21999999999\",\n",
    "    \"cpf\": \"12345678901\",  # Deve ter 11 dígitos numéricos\n",
    "    \"data_aniversario\": \"1990-10-20\",\n",
    "    \"id_grupo\": 1,\n",
    "    \"id\": 1\n",
    "}"
   ]
  },
  {
   "cell_type": "markdown",
   "id": "8aa5fa05",
   "metadata": {},
   "source": [
    "POST - Criar cliente"
   ]
  },
  {
   "cell_type": "code",
   "execution_count": null,
   "id": "abb44571",
   "metadata": {},
   "outputs": [],
   "source": [
    "response = requests.post(BASE_URL + \"/\", json=cliente_exemplo)\n",
    "print(\"Status:\", response.status_code)\n",
    "print(\"Resposta:\", response.json())"
   ]
  },
  {
   "cell_type": "markdown",
   "id": "518ad7f4",
   "metadata": {},
   "source": [
    "GET - Listar todos os clientes"
   ]
  },
  {
   "cell_type": "code",
   "execution_count": null,
   "id": "5898aa83",
   "metadata": {},
   "outputs": [],
   "source": [
    "response = requests.get(BASE_URL + \"/\")\n",
    "print(\"Status:\", response.status_code)\n",
    "print(\"Clientes:\", response.json())"
   ]
  },
  {
   "cell_type": "markdown",
   "id": "aff42602",
   "metadata": {},
   "source": [
    "GET - Buscar cliente por ID"
   ]
  },
  {
   "cell_type": "code",
   "execution_count": null,
   "id": "bb41c62b",
   "metadata": {},
   "outputs": [],
   "source": [
    "cliente_id = 1\n",
    "response = requests.get(f\"{BASE_URL}/{cliente_id}\")\n",
    "print(\"Status:\", response.status_code)\n",
    "print(\"Cliente:\", response.json())"
   ]
  },
  {
   "cell_type": "markdown",
   "id": "6998fd76",
   "metadata": {},
   "source": [
    "PUT - Atualizar cliente"
   ]
  },
  {
   "cell_type": "code",
   "execution_count": null,
   "id": "7468ddb9",
   "metadata": {},
   "outputs": [],
   "source": [
    "cliente_atualizado = {\n",
    "    \"nome\": \"Maria Silva Souza\",\n",
    "    \"telefone\": \"21988888888\",\n",
    "    \"cpf\": \"12345678901\",\n",
    "    \"data_aniversario\": \"1991-01-01\",\n",
    "    \"id_grupo\": 1\n",
    "}\n",
    "\n",
    "response = requests.put(f\"{BASE_URL}/{cliente_id}\", json=cliente_atualizado)\n",
    "print(\"Status:\", response.status_code)\n",
    "print(\"Cliente atualizado:\", response.json())"
   ]
  },
  {
   "cell_type": "markdown",
   "id": "f63c3c96",
   "metadata": {},
   "source": [
    "DELETE - Remover cliente"
   ]
  },
  {
   "cell_type": "code",
   "execution_count": null,
   "id": "2306b665",
   "metadata": {},
   "outputs": [],
   "source": [
    "response = requests.delete(f\"{BASE_URL}/{cliente_id}\")\n",
    "print(\"Status:\", response.status_code)\n",
    "print(\"Resposta:\", response.text)"
   ]
  },
  {
   "cell_type": "markdown",
   "id": "d5167bc1",
   "metadata": {},
   "source": [
    "GET - Histórico de produtos e serviços"
   ]
  },
  {
   "cell_type": "code",
   "execution_count": null,
   "id": "91dc7e2a",
   "metadata": {},
   "outputs": [],
   "source": [
    "response = requests.get(f\"{BASE_URL}/{cliente_id}/historico\")\n",
    "print(\"Status:\", response.status_code)\n",
    "print(\"Histórico:\", response.json())"
   ]
  },
  {
   "cell_type": "markdown",
   "id": "fe793494",
   "metadata": {},
   "source": [
    "Funcionário - Endpoints e Exemplos"
   ]
  },
  {
   "cell_type": "code",
   "execution_count": null,
   "id": "dbbcc896",
   "metadata": {},
   "outputs": [],
   "source": [
    "from datetime import date\n",
    "import requests\n",
    "\n",
    "# URL base da API\n",
    "BASE_URL = \"http://localhost:8000/funcionarios\""
   ]
  },
  {
   "cell_type": "markdown",
   "id": "9a17614c",
   "metadata": {},
   "source": [
    "POST - Criar Funcionário"
   ]
  },
  {
   "cell_type": "code",
   "execution_count": null,
   "id": "9af2b965",
   "metadata": {},
   "outputs": [],
   "source": [
    "novo_funcionario = {\n",
    "    \"nome\": \"João da Silva\",\n",
    "    \"id_grupo\": 1,\n",
    "    \"salario\": 4000.0\n",
    "}\n",
    "res = requests.post(f\"{BASE_URL}/\", json=novo_funcionario)\n",
    "print(\"1. Criar Funcionário:\", res.status_code, res.json())"
   ]
  },
  {
   "cell_type": "markdown",
   "id": "93f51ad8",
   "metadata": {},
   "source": [
    "GET - Listar todos os funcionários"
   ]
  },
  {
   "cell_type": "code",
   "execution_count": null,
   "id": "ef36de9b",
   "metadata": {},
   "outputs": [],
   "source": [
    "res = requests.get(f\"{BASE_URL}/\")\n",
    "print(\"2. Buscar todos os Funcionários:\", res.status_code, res.json())"
   ]
  },
  {
   "cell_type": "markdown",
   "id": "7ec2ae71",
   "metadata": {},
   "source": [
    "GET - Buscar funcionário por ID"
   ]
  },
  {
   "cell_type": "code",
   "execution_count": null,
   "id": "fd384290",
   "metadata": {},
   "outputs": [],
   "source": [
    "funcionario_id = 1\n",
    "res = requests.get(f\"{BASE_URL}/{funcionario_id}\")\n",
    "print(\"3. Buscar Funcionário por ID:\", res.status_code, res.json())"
   ]
  },
  {
   "cell_type": "markdown",
   "id": "efbac420",
   "metadata": {},
   "source": [
    "PUT - Atualizar funcionario"
   ]
  },
  {
   "cell_type": "code",
   "execution_count": null,
   "id": "8dce768f",
   "metadata": {},
   "outputs": [],
   "source": [
    "atualizado_funcionario = {\n",
    "    \"nome\": \"João da Costa\",\n",
    "    \"id_grupo\": 4,\n",
    "    \"salario\": 2000.0\n",
    "}\n",
    "res = requests.put(f\"{BASE_URL}/{funcionario_id}\", json=atualizado_funcionario)\n",
    "print(\"4. Atualizar Funcionário:\", res.status_code, res.json())"
   ]
  },
  {
   "cell_type": "markdown",
   "id": "93c0d603",
   "metadata": {},
   "source": [
    "DELETE - Remover funcionario"
   ]
  },
  {
   "cell_type": "code",
   "execution_count": null,
   "id": "4223d40e",
   "metadata": {},
   "outputs": [],
   "source": [
    "res = requests.delete(f\"{BASE_URL}/{funcionario_id}\")\n",
    "print(\"5. Deletar Funcionário:\", res.status_code, \"Sucesso\" if res.status_code == 204 else res.json())"
   ]
  },
  {
   "cell_type": "markdown",
   "id": "38e40c81",
   "metadata": {},
   "source": [
    "Produtos - Endpoints e Exemplos"
   ]
  },
  {
   "cell_type": "code",
   "execution_count": null,
   "id": "005e49d9",
   "metadata": {},
   "outputs": [],
   "source": [
    "import requests\n",
    "\n",
    "# URL base da API\n",
    "BASE_URL = \"http://localhost:8000/produtos\""
   ]
  },
  {
   "cell_type": "markdown",
   "id": "4470e76f",
   "metadata": {},
   "source": [
    "POST - Criar produto"
   ]
  },
  {
   "cell_type": "code",
   "execution_count": null,
   "id": "3222e395",
   "metadata": {},
   "outputs": [],
   "source": [
    "novo_produto = {\n",
    "    \"nome\": \"Shampoo de Melaleuca\",\n",
    "    \"categoria\": \"Cabelo\",\n",
    "    \"valor\": 29.90,\n",
    "    \"quantidade\": 50,\n",
    "    \"uso_interno\": false,\n",
    "    \"id_grupo\": 1\n",
    "}\n",
    "res = requests.post(f\"{BASE_URL}/\", json=novo_produto)\n",
    "print(\"1. Criar Produto:\", res.status_code, res.json())"
   ]
  },
  {
   "cell_type": "markdown",
   "id": "6afce03d",
   "metadata": {},
   "source": [
    "GET - Listar todos os produtos"
   ]
  },
  {
   "cell_type": "code",
   "execution_count": null,
   "id": "47763c5a",
   "metadata": {},
   "outputs": [],
   "source": [
    "res = requests.get(f\"{BASE_URL}/\")\n",
    "print(\"2. Buscar todos os Produtos:\", res.status_code, res.json())"
   ]
  },
  {
   "cell_type": "markdown",
   "id": "9d4ef04e",
   "metadata": {},
   "source": [
    "GET - Buscar produto por ID"
   ]
  },
  {
   "cell_type": "code",
   "execution_count": null,
   "id": "00280c26",
   "metadata": {},
   "outputs": [],
   "source": [
    "produto_id = 1\n",
    "res = requests.get(f\"{BASE_URL}/{produto_id}\")\n",
    "print(\"3. Buscar Produto por ID:\", res.status_code, res.json())"
   ]
  },
  {
   "cell_type": "markdown",
   "id": "b3c74f4a",
   "metadata": {},
   "source": [
    "PUT - Atualizar produto"
   ]
  },
  {
   "cell_type": "code",
   "execution_count": null,
   "id": "ceb34752",
   "metadata": {},
   "outputs": [],
   "source": [
    "produto_atualizado = {\n",
    "    \"nome\": \"Shampoo de Alecrim\",\n",
    "    \"categoria\": \"Cabelo\",\n",
    "    \"valor\": 39.90,\n",
    "    \"quantidade\": 10,\n",
    "    \"uso_interno\": false,\n",
    "    \"id_grupo\": 1\n",
    "}\n",
    "res = requests.put(f\"{BASE_URL}/{produto_id}\", json=produto_atualizado)\n",
    "print(\"4. Atualizar Produto:\", res.status_code, res.json())"
   ]
  },
  {
   "cell_type": "markdown",
   "id": "85f7e6a9",
   "metadata": {},
   "source": [
    "DELETE - Remover produto"
   ]
  },
  {
   "cell_type": "code",
   "execution_count": null,
   "id": "390d3a5b",
   "metadata": {},
   "outputs": [],
   "source": [
    "res = requests.delete(f\"{BASE_URL}/{produto_id}\")\n",
    "print(\"5. Deletar Produto:\", res.status_code, \"Sucesso\" if res.status_code == 204 else res.json())"
   ]
  },
  {
   "cell_type": "markdown",
   "id": "4ca3c0d8",
   "metadata": {},
   "source": [
    "Serviço - Endpoints e Exemplos"
   ]
  },
  {
   "cell_type": "code",
   "execution_count": null,
   "id": "deb0f3cf",
   "metadata": {},
   "outputs": [],
   "source": [
    "import requests\n",
    "\n",
    "# URL base da API\n",
    "BASE_URL = \"http://localhost:8000/servicos\""
   ]
  },
  {
   "cell_type": "markdown",
   "id": "dd3cfae7",
   "metadata": {},
   "source": [
    "POST - Criar serviço"
   ]
  },
  {
   "cell_type": "code",
   "execution_count": null,
   "id": "4d4bcf83",
   "metadata": {},
   "outputs": [],
   "source": [
    "novo_servico = {\n",
    "    \"nome\": \"Corte de Cabelo Masculino\",\n",
    "    \"categoria\": \"Cabelo\",\n",
    "    \"valor\": 25.00,\n",
    "    \"id_grupo\": 1\n",
    "}\n",
    "res = requests.post(f\"{BASE_URL}/\", json=novo_servico)\n",
    "print(\"1. Criar Serviço:\", res.status_code, res.json())"
   ]
  },
  {
   "cell_type": "markdown",
   "id": "e8739a16",
   "metadata": {},
   "source": [
    "GET - Listar todos os serviços"
   ]
  },
  {
   "cell_type": "code",
   "execution_count": null,
   "id": "b3aeb8b1",
   "metadata": {},
   "outputs": [],
   "source": [
    "res = requests.get(f\"{BASE_URL}/\")\n",
    "print(\"2. Buscar todos os Serviços:\", res.status_code, res.json())"
   ]
  },
  {
   "cell_type": "markdown",
   "id": "496eb521",
   "metadata": {},
   "source": [
    "GET - Buscar serviço por ID"
   ]
  },
  {
   "cell_type": "code",
   "execution_count": null,
   "id": "e7bd2135",
   "metadata": {},
   "outputs": [],
   "source": [
    "servico_id = 1\n",
    "res = requests.get(f\"{BASE_URL}/{servico_id}\")\n",
    "print(\"3. Buscar Serviço por ID:\", res.status_code, res.json())"
   ]
  },
  {
   "cell_type": "markdown",
   "id": "b8afce00",
   "metadata": {},
   "source": [
    "PUT - Atualizar serviço"
   ]
  },
  {
   "cell_type": "code",
   "execution_count": null,
   "id": "ce5d5a07",
   "metadata": {},
   "outputs": [],
   "source": [
    "servico_atualizado = {\n",
    "    \"nome\": \"Corte de Cabelo Feminino\",\n",
    "    \"categoria\": \"Cabelo\",\n",
    "    \"valor\": 45.00,\n",
    "    \"id_grupo\": 1\n",
    "}\n",
    "res = requests.put(f\"{BASE_URL}/{servico_id}\", json=servico_atualizado)\n",
    "print(\"4. Atualizar Serviço:\", res.status_code, res.json())"
   ]
  },
  {
   "cell_type": "markdown",
   "id": "6fa709f5",
   "metadata": {},
   "source": [
    "DELETE - Remover serviço"
   ]
  },
  {
   "cell_type": "code",
   "execution_count": null,
   "id": "20fec1a9",
   "metadata": {},
   "outputs": [],
   "source": [
    "res = requests.delete(f\"{BASE_URL}/{servico_id}\")\n",
    "print(\"5. Deletar Serviço:\", res.status_code, \"Sucesso\" if res.status_code == 204 else res.json())"
   ]
  },
  {
   "cell_type": "markdown",
   "id": "4f08a975",
   "metadata": {},
   "source": [
    "Usuário - Endpoints e Exemplos"
   ]
  },
  {
   "cell_type": "code",
   "execution_count": null,
   "id": "8fec56d3",
   "metadata": {},
   "outputs": [],
   "source": [
    "import requests\n",
    "\n",
    "# URL base da API\n",
    "BASE_URL = \"http://localhost:8000/usuarios\""
   ]
  },
  {
   "cell_type": "markdown",
   "id": "648d2d56",
   "metadata": {},
   "source": [
    "POST - Criar usuário"
   ]
  },
  {
   "cell_type": "code",
   "execution_count": null,
   "id": "9447a7a5",
   "metadata": {},
   "outputs": [],
   "source": [
    "novo_usuario = {\n",
    "    \"nome\": \"Lucas Feitosa\",\n",
    "    \"login\": \"lucasf\",\n",
    "    \"senha\": \"123456\",\n",
    "    \"nome_grupo\": \"Administrador\"\n",
    "}\n",
    "res = requests.post(f\"{BASE_URL}/\", json=novo_usuario)\n",
    "print(\"1. Criar Usuário:\", res.status_code, res.json())"
   ]
  },
  {
   "cell_type": "markdown",
   "id": "4ab6239a",
   "metadata": {},
   "source": [
    "GET - Listar todos os usuários"
   ]
  },
  {
   "cell_type": "code",
   "execution_count": null,
   "id": "2887573d",
   "metadata": {},
   "outputs": [],
   "source": [
    "res = requests.get(f\"{BASE_URL}/\")\n",
    "print(\"2. Buscar todos os Usuários:\", res.status_code, res.json())"
   ]
  },
  {
   "cell_type": "markdown",
   "id": "d98861c7",
   "metadata": {},
   "source": [
    "GET - Buscar usuário por ID"
   ]
  },
  {
   "cell_type": "code",
   "execution_count": null,
   "id": "cdc05b35",
   "metadata": {},
   "outputs": [],
   "source": [
    "usuario_id = 1\n",
    "res = requests.get(f\"{BASE_URL}/{usuario_id}\")\n",
    "print(\"3. Buscar Usuário por ID:\", res.status_code, res.json())"
   ]
  },
  {
   "cell_type": "markdown",
   "id": "54901105",
   "metadata": {},
   "source": [
    "PUT - Atualizar usuário"
   ]
  },
  {
   "cell_type": "code",
   "execution_count": null,
   "id": "9f2fd808",
   "metadata": {},
   "outputs": [],
   "source": [
    "usuario_atualizado = {\n",
    "    \"nome\": \"Lucas Feitosa Atualizado\",\n",
    "    \"login\": \"lucasf2\",\n",
    "    \"senha\": \"nova_senha\",\n",
    "    \"nome_grupo\": \"Administrador\"\n",
    "}\n",
    "res = requests.put(f\"{BASE_URL}/{usuario_id}\", json=usuario_atualizado)\n",
    "print(\"4. Atualizar Usuário:\", res.status_code, res.json())"
   ]
  },
  {
   "cell_type": "markdown",
   "id": "b9c49df6",
   "metadata": {},
   "source": [
    "DELETE - Remover usuário"
   ]
  },
  {
   "cell_type": "code",
   "execution_count": null,
   "id": "9c2814d6",
   "metadata": {},
   "outputs": [],
   "source": [
    "res = requests.delete(f\"{BASE_URL}/{usuario_id}\")\n",
    "print(\"5. Deletar Usuário:\", res.status_code, \"Sucesso\" if res.status_code == 204 else res.json())"
   ]
  },
  {
   "cell_type": "markdown",
   "id": "087aac82",
   "metadata": {},
   "source": [
    "Cliente-Produto - Endpoints e Exemplos"
   ]
  },
  {
   "cell_type": "code",
   "execution_count": null,
   "id": "47ffc125",
   "metadata": {},
   "outputs": [],
   "source": [
    "import requests\n",
    "from datetime import datetime\n",
    "\n",
    "# URL base da API\n",
    "BASE_URL = \"http://localhost:8000/cliente_produto\""
   ]
  },
  {
   "cell_type": "markdown",
   "id": "6ebfcaa4",
   "metadata": {},
   "source": [
    "POST - Criar cliente-produto"
   ]
  },
  {
   "cell_type": "code",
   "execution_count": null,
   "id": "734bc134",
   "metadata": {},
   "outputs": [],
   "source": [
    "novo_cliente_produto = {\n",
    "    \"id_cliente\": 1,  # Pode ser None para cliente anônimo\n",
    "    \"id_funcionario\": 1,\n",
    "    \"id_produto\": 1,\n",
    "    \"valor_total\": 100.0,\n",
    "    \"quantidade\": 2,\n",
    "    \"data_venda\": datetime.now().isoformat()\n",
    "}\n",
    "res = requests.post(f\"{BASE_URL}/\", json=novo_cliente_produto)\n",
    "print(\"1. Criar Cliente Produto:\", res.status_code, res.json())"
   ]
  },
  {
   "cell_type": "markdown",
   "id": "ccf2c7cf",
   "metadata": {},
   "source": [
    "GET - Listar todos os cliente-produtos"
   ]
  },
  {
   "cell_type": "code",
   "execution_count": null,
   "id": "60c2bd1c",
   "metadata": {},
   "outputs": [],
   "source": [
    "res = requests.get(f\"{BASE_URL}/\")\n",
    "print(\"2. Buscar todos Cliente Produto:\", res.status_code, res.json())"
   ]
  },
  {
   "cell_type": "markdown",
   "id": "374ff97a",
   "metadata": {},
   "source": [
    "GET - Buscar cliente-produto por ID"
   ]
  },
  {
   "cell_type": "code",
   "execution_count": null,
   "id": "de572cf6",
   "metadata": {},
   "outputs": [],
   "source": [
    "cliente_produto_id = 1\n",
    "res = requests.get(f\"{BASE_URL}/{cliente_produto_id}\")\n",
    "print(\"3. Buscar Cliente Produto por ID:\", res.status_code, res.json())"
   ]
  },
  {
   "cell_type": "markdown",
   "id": "c7500a2c",
   "metadata": {},
   "source": [
    "PUT - Atualizar cliente-produto"
   ]
  },
  {
   "cell_type": "code",
   "execution_count": null,
   "id": "1999a0bb",
   "metadata": {},
   "outputs": [],
   "source": [
    "cliente_produto_atualizado = {\n",
    "    \"id_cliente\": 1,\n",
    "    \"id_funcionario\": 1,\n",
    "    \"id_produto\": 1,\n",
    "    \"valor_total\": 120.0,\n",
    "    \"quantidade\": 3,\n",
    "    \"data_venda\": datetime.now().isoformat()\n",
    "}\n",
    "res = requests.put(f\"{BASE_URL}/{cliente_produto_id}\", json=cliente_produto_atualizado)\n",
    "print(\"4. Atualizar Cliente Produto:\", res.status_code, res.json())"
   ]
  },
  {
   "cell_type": "markdown",
   "id": "eaba15ee",
   "metadata": {},
   "source": [
    "DELETE - Remover cliente-produto"
   ]
  },
  {
   "cell_type": "code",
   "execution_count": null,
   "id": "14f04251",
   "metadata": {},
   "outputs": [],
   "source": [
    "res = requests.delete(f\"{BASE_URL}/{cliente_produto_id}\")\n",
    "print(\"5. Deletar Cliente Produto:\", res.status_code, \"Sucesso\" if res.status_code == 204 else res.json())"
   ]
  },
  {
   "cell_type": "markdown",
   "id": "3b47eb53",
   "metadata": {},
   "source": [
    "Cliente-Serviço - Endpoints e Exemplos"
   ]
  },
  {
   "cell_type": "code",
   "execution_count": null,
   "id": "d7cc34ef",
   "metadata": {},
   "outputs": [],
   "source": [
    "import requests\n",
    "from datetime import datetime\n",
    "\n",
    "# URL base da API\n",
    "BASE_URL = \"http://localhost:8000/cliente_servico\""
   ]
  },
  {
   "cell_type": "markdown",
   "id": "bd7f0353",
   "metadata": {},
   "source": [
    "POST - Criar cliente-serviço"
   ]
  },
  {
   "cell_type": "code",
   "execution_count": null,
   "id": "c7343985",
   "metadata": {},
   "outputs": [],
   "source": [
    "novo_cliente_servico = {\n",
    "    \"id_cliente\": 1,  # Pode ser None (cliente anônimo)\n",
    "    \"id_funcionario\": 1,\n",
    "    \"id_servico\": 1,\n",
    "    \"valor\": 150.0,\n",
    "    \"observacoes\": \"Corte de cabelo + hidratação\",\n",
    "    \"data_atendimento\": datetime.now().isoformat()\n",
    "}\n",
    "res = requests.post(f\"{BASE_URL}/\", json=novo_cliente_servico)\n",
    "print(\"1. Criar Cliente Serviço:\", res.status_code, res.json())"
   ]
  },
  {
   "cell_type": "markdown",
   "id": "bfa34390",
   "metadata": {},
   "source": [
    "GET - Listar todos os cliente-serviços"
   ]
  },
  {
   "cell_type": "code",
   "execution_count": null,
   "id": "b160aabb",
   "metadata": {},
   "outputs": [],
   "source": [
    "res = requests.get(f\"{BASE_URL}/\")\n",
    "print(\"2. Buscar todos Cliente Serviço:\", res.status_code, res.json())"
   ]
  },
  {
   "cell_type": "markdown",
   "id": "552018eb",
   "metadata": {},
   "source": [
    "GET - Buscar cliente-serviço por ID"
   ]
  },
  {
   "cell_type": "code",
   "execution_count": null,
   "id": "36f6cd6e",
   "metadata": {},
   "outputs": [],
   "source": [
    "cliente_servico_id = 1\n",
    "res = requests.get(f\"{BASE_URL}/{cliente_servico_id}\")\n",
    "print(\"3. Buscar Cliente Serviço por ID:\", res.status_code, res.json())"
   ]
  },
  {
   "cell_type": "markdown",
   "id": "0788e753",
   "metadata": {},
   "source": [
    "PUT - Atualizar cliente-serviço"
   ]
  },
  {
   "cell_type": "code",
   "execution_count": null,
   "id": "821cfa34",
   "metadata": {},
   "outputs": [],
   "source": [
    "cliente_servico_atualizado = {\n",
    "    \"id_cliente\": 1,\n",
    "    \"id_funcionario\": 1,\n",
    "    \"id_servico\": 1,\n",
    "    \"valor\": 180.0,\n",
    "    \"observacoes\": \"Corte + hidratação premium\",\n",
    "    \"data_atendimento\": datetime.now().isoformat()\n",
    "}\n",
    "res = requests.put(f\"{BASE_URL}/{cliente_servico_id}\", json=cliente_servico_atualizado)\n",
    "print(\"4. Atualizar Cliente Serviço:\", res.status_code, res.json())"
   ]
  },
  {
   "cell_type": "markdown",
   "id": "6484abaf",
   "metadata": {},
   "source": [
    "DELETE - Remover cliente-serviço"
   ]
  },
  {
   "cell_type": "code",
   "execution_count": null,
   "id": "a454b26c",
   "metadata": {},
   "outputs": [],
   "source": [
    "res = requests.delete(f\"{BASE_URL}/{cliente_servico_id}\")\n",
    "print(\"5. Deletar Cliente Serviço:\", res.status_code, \"Sucesso\" if res.status_code == 204 else res.json())"
   ]
  }
 ],
 "metadata": {
  "kernelspec": {
   "display_name": "venv",
   "language": "python",
   "name": "python3"
  },
  "language_info": {
   "name": "python",
   "version": "3.13.0"
  }
 },
 "nbformat": 4,
 "nbformat_minor": 5
}
